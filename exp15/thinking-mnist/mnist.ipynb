{
 "cells": [
  {
   "metadata": {},
   "cell_type": "markdown",
   "source": "引入依赖",
   "id": "ec1552f90ab3e2fd"
  },
  {
   "metadata": {
    "ExecuteTime": {
     "end_time": "2025-04-20T07:07:09.437112Z",
     "start_time": "2025-04-20T07:07:06.536150Z"
    }
   },
   "cell_type": "code",
   "source": [
    "import torch\n",
    "from matplotlib import pyplot as plt\n",
    "from torch import optim\n",
    "from torch.utils.data import DataLoader\n",
    "from torchvision import transforms\n",
    "from torchvision import datasets"
   ],
   "id": "935fad829f9c818b",
   "outputs": [],
   "execution_count": 1
  },
  {
   "metadata": {},
   "cell_type": "markdown",
   "source": "数据预处理",
   "id": "547ae945c6670a5d"
  },
  {
   "metadata": {
    "ExecuteTime": {
     "end_time": "2025-04-20T07:07:09.607743Z",
     "start_time": "2025-04-20T07:07:09.605309Z"
    }
   },
   "cell_type": "code",
   "source": [
    "transform = transforms.Compose([\n",
    "    transforms.ToTensor(),\n",
    "    transforms.Normalize((0.1307,), (0.3081,))\n",
    "])"
   ],
   "id": "8e4a1f5c5a85a4f4",
   "outputs": [],
   "execution_count": 2
  },
  {
   "metadata": {},
   "cell_type": "markdown",
   "source": "数据集准备",
   "id": "d0c9cdbec95aba30"
  },
  {
   "metadata": {
    "ExecuteTime": {
     "end_time": "2025-04-20T07:07:09.649133Z",
     "start_time": "2025-04-20T07:07:09.621779Z"
    }
   },
   "cell_type": "code",
   "source": [
    "train_dataset = datasets.MNIST(root='./data', train=True,\n",
    "                               download=True, transform=transform)\n",
    "test_dataset = datasets.MNIST(root='./data', train=False,\n",
    "                              download=True, transform=transform)\n",
    "train_loader = DataLoader(train_dataset, batch_size=64, shuffle=True)\n",
    "test_loader = DataLoader(test_dataset, batch_size=64, shuffle=False)\n"
   ],
   "id": "33818974ac9adc69",
   "outputs": [],
   "execution_count": 3
  },
  {
   "metadata": {},
   "cell_type": "markdown",
   "source": "展示数据集",
   "id": "3a7c21a83957efd6"
  },
  {
   "metadata": {
    "ExecuteTime": {
     "end_time": "2025-04-20T07:07:10.036425Z",
     "start_time": "2025-04-20T07:07:09.658839Z"
    }
   },
   "cell_type": "code",
   "source": [
    "fig = plt.figure()\n",
    "for i in range(12):\n",
    "    plt.subplot(3, 4, i+1)\n",
    "    plt.tight_layout()\n",
    "    plt.imshow(train_dataset.data[i], cmap='gray', interpolation='none')\n",
    "    plt.title(\"Labels: {}\".format(train_dataset.targets[i]))\n",
    "    plt.xticks([])\n",
    "    plt.yticks([])\n",
    "plt.show()"
   ],
   "id": "6131c86f2c376b1a",
   "outputs": [
    {
     "data": {
      "text/plain": [
       "<Figure size 640x480 with 12 Axes>"
      ],
      "image/png": "[encoded data removed]"
     },
     "metadata": {},
     "output_type": "display_data"
    }
   ],
   "execution_count": 4
  },
  {
   "metadata": {},
   "cell_type": "markdown",
   "source": "定义CNN模型",
   "id": "cf489d4c6da6c235"
  },
  {
   "metadata": {
    "ExecuteTime": {
     "end_time": "2025-04-20T07:07:10.059246Z",
     "start_time": "2025-04-20T07:07:10.054768Z"
    }
   },
   "cell_type": "code",
   "source": [
    "class Net(torch.nn.Module):\n",
    "    def __init__(self):\n",
    "        super(Net, self).__init__()\n",
    "        self.conv1 = torch.nn.Sequential(\n",
    "            torch.nn.Conv2d(1, 10, kernel_size=5),#卷积\n",
    "            torch.nn.ReLU(),#ReLU激活\n",
    "            torch.nn.MaxPool2d(kernel_size=2),#最大池化\n",
    "        )\n",
    "        self.conv2 = torch.nn.Sequential(\n",
    "            torch.nn.Conv2d(10, 20, kernel_size=5),\n",
    "            torch.nn.ReLU(),\n",
    "            torch.nn.MaxPool2d(kernel_size=2),\n",
    "        )\n",
    "        self.fc = torch.nn.Sequential(\n",
    "            torch.nn.Linear(320, 50),#线性化\n",
    "            torch.nn.Linear(50, 10),\n",
    "        )\n",
    "    def forward(self, x):\n",
    "        batch_size = x.size(0)\n",
    "        x = self.conv1(x)  # 卷积+激活+池化\n",
    "        x = self.conv2(x)  # 卷积+激活+池化\n",
    "        x = x.view(batch_size, -1)  # flatten 变成全连接网络需要的输入 (batch, 20,4,4) ==> (batch,320), -1 此处自动算出的是320\n",
    "        x = self.fc(x)\n",
    "        return x  # 最后输出的是维度为10的，也就是（对应数学符号的0~9）"
   ],
   "id": "30f1f2bf3cf0e435",
   "outputs": [],
   "execution_count": 5
  },
  {
   "metadata": {},
   "cell_type": "markdown",
   "source": "实例化模型",
   "id": "d57f0a0deee17216"
  },
  {
   "metadata": {
    "ExecuteTime": {
     "end_time": "2025-04-20T07:07:10.079509Z",
     "start_time": "2025-04-20T07:07:10.075397Z"
    }
   },
   "cell_type": "code",
   "source": [
    "model = Net()\n",
    "criterion = torch.nn.CrossEntropyLoss()\n",
    "optimizer = optim.SGD(model.parameters(), lr=0.01)"
   ],
   "id": "e0608bddcc01bbe9",
   "outputs": [],
   "execution_count": 6
  },
  {
   "metadata": {},
   "cell_type": "markdown",
   "source": "训练&测试",
   "id": "b253524c1375fec8"
  },
  {
   "metadata": {
    "ExecuteTime": {
     "end_time": "2025-04-20T07:08:47.854601Z",
     "start_time": "2025-04-20T07:07:10.090440Z"
    }
   },
   "cell_type": "code",
   "source": [
    "epochs = 10\n",
    "acc_test_list = []  # 用于存储每个 epoch 的测试准确率\n",
    "\n",
    "def train(epoch):\n",
    "    for batch_idx, (data, target) in enumerate(train_loader):\n",
    "        optimizer.zero_grad()\n",
    "        output = model(data)\n",
    "        loss = criterion(output, target)\n",
    "        loss.backward()\n",
    "        optimizer.step()\n",
    "        if batch_idx % 100 == 0:\n",
    "            print('Train Epoch: {} [{}/{} ({:.0f}%)]\\tLoss: {:.6f}'.format(\n",
    "                epoch, batch_idx * len(data), len(train_loader.dataset),\n",
    "                100. * batch_idx / len(train_loader), loss.item()))\n",
    "\n",
    "def test():\n",
    "    correct = 0\n",
    "    total = 0\n",
    "    with torch.no_grad():  # 在测试过程中禁用梯度计算\n",
    "        for data, target in test_loader:\n",
    "            outputs = model(data)\n",
    "            _, predicted = torch.max(outputs.data, 1)\n",
    "            total += target.size(0)\n",
    "            correct += (predicted == target).sum().item()\n",
    "\n",
    "    accuracy = 100 * correct / total\n",
    "    acc_test_list.append(accuracy)  # 在每个 epoch 结束后添加准确率\n",
    "    print(f'Accuracy on test set: {accuracy}%')\n",
    "\n",
    "for epoch in range(1, epochs + 1):\n",
    "    train(epoch)\n",
    "    test()\n",
    "\n",
    "plt.plot(acc_test_list)\n",
    "plt.xlabel('Epoch')\n",
    "plt.ylabel('Accuracy')\n",
    "plt.xticks(range(1, epochs + 1))\n",
    "plt.show()"
   ],
   "id": "31e39777e7f09518",
   "outputs": [
    {
     "name": "stdout",
     "output_type": "stream",
     "text": [
      "Train Epoch: 1 [0/60000 (0%)]\tLoss: 2.289711\n",
      "Train Epoch: 1 [6400/60000 (11%)]\tLoss: 1.804666\n",
      "Train Epoch: 1 [12800/60000 (21%)]\tLoss: 0.611075\n",
      "Train Epoch: 1 [19200/60000 (32%)]\tLoss: 0.456656\n",
      "Train Epoch: 1 [25600/60000 (43%)]\tLoss: 0.385882\n",
      "Train Epoch: 1 [32000/60000 (53%)]\tLoss: 0.272361\n",
      "Train Epoch: 1 [38400/60000 (64%)]\tLoss: 0.268645\n",
      "Train Epoch: 1 [44800/60000 (75%)]\tLoss: 0.224828\n",
      "Train Epoch: 1 [51200/60000 (85%)]\tLoss: 0.243398\n",
      "Train Epoch: 1 [57600/60000 (96%)]\tLoss: 0.250209\n",
      "Accuracy on test set: 93.17%\n",
      "Train Epoch: 2 [0/60000 (0%)]\tLoss: 0.109633\n",
      "Train Epoch: 2 [6400/60000 (11%)]\tLoss: 0.099577\n",
      "Train Epoch: 2 [12800/60000 (21%)]\tLoss: 0.187608\n",
      "Train Epoch: 2 [19200/60000 (32%)]\tLoss: 0.140319\n",
      "Train Epoch: 2 [25600/60000 (43%)]\tLoss: 0.138366\n",
      "Train Epoch: 2 [32000/60000 (53%)]\tLoss: 0.098386\n",
      "Train Epoch: 2 [38400/60000 (64%)]\tLoss: 0.216456\n",
      "Train Epoch: 2 [44800/60000 (75%)]\tLoss: 0.110269\n",
      "Train Epoch: 2 [51200/60000 (85%)]\tLoss: 0.129697\n",
      "Train Epoch: 2 [57600/60000 (96%)]\tLoss: 0.197676\n",
      "Accuracy on test set: 96.45%\n",
      "Train Epoch: 3 [0/60000 (0%)]\tLoss: 0.182784\n",
      "Train Epoch: 3 [6400/60000 (11%)]\tLoss: 0.178567\n",
      "Train Epoch: 3 [12800/60000 (21%)]\tLoss: 0.212305\n",
      "Train Epoch: 3 [19200/60000 (32%)]\tLoss: 0.127733\n",
      "Train Epoch: 3 [25600/60000 (43%)]\tLoss: 0.104670\n",
      "Train Epoch: 3 [32000/60000 (53%)]\tLoss: 0.184660\n",
      "Train Epoch: 3 [38400/60000 (64%)]\tLoss: 0.050093\n",
      "Train Epoch: 3 [44800/60000 (75%)]\tLoss: 0.075294\n",
      "Train Epoch: 3 [51200/60000 (85%)]\tLoss: 0.116738\n",
      "Train Epoch: 3 [57600/60000 (96%)]\tLoss: 0.111473\n",
      "Accuracy on test set: 97.35%\n",
      "Train Epoch: 4 [0/60000 (0%)]\tLoss: 0.075469\n",
      "Train Epoch: 4 [6400/60000 (11%)]\tLoss: 0.112951\n",
      "Train Epoch: 4 [12800/60000 (21%)]\tLoss: 0.169829\n",
      "Train Epoch: 4 [19200/60000 (32%)]\tLoss: 0.071476\n",
      "Train Epoch: 4 [25600/60000 (43%)]\tLoss: 0.055538\n",
      "Train Epoch: 4 [32000/60000 (53%)]\tLoss: 0.036198\n",
      "Train Epoch: 4 [38400/60000 (64%)]\tLoss: 0.069453\n",
      "Train Epoch: 4 [44800/60000 (75%)]\tLoss: 0.069490\n",
      "Train Epoch: 4 [51200/60000 (85%)]\tLoss: 0.077604\n",
      "Train Epoch: 4 [57600/60000 (96%)]\tLoss: 0.177281\n",
      "Accuracy on test set: 97.6%\n",
      "Train Epoch: 5 [0/60000 (0%)]\tLoss: 0.055099\n",
      "Train Epoch: 5 [6400/60000 (11%)]\tLoss: 0.083326\n",
      "Train Epoch: 5 [12800/60000 (21%)]\tLoss: 0.030426\n",
      "Train Epoch: 5 [19200/60000 (32%)]\tLoss: 0.092046\n",
      "Train Epoch: 5 [25600/60000 (43%)]\tLoss: 0.016331\n",
      "Train Epoch: 5 [32000/60000 (53%)]\tLoss: 0.027281\n",
      "Train Epoch: 5 [38400/60000 (64%)]\tLoss: 0.150044\n",
      "Train Epoch: 5 [44800/60000 (75%)]\tLoss: 0.012054\n",
      "Train Epoch: 5 [51200/60000 (85%)]\tLoss: 0.037072\n",
      "Train Epoch: 5 [57600/60000 (96%)]\tLoss: 0.103632\n",
      "Accuracy on test set: 98.03%\n",
      "Train Epoch: 6 [0/60000 (0%)]\tLoss: 0.052299\n",
      "Train Epoch: 6 [6400/60000 (11%)]\tLoss: 0.081529\n",
      "Train Epoch: 6 [12800/60000 (21%)]\tLoss: 0.127022\n",
      "Train Epoch: 6 [19200/60000 (32%)]\tLoss: 0.052659\n",
      "Train Epoch: 6 [25600/60000 (43%)]\tLoss: 0.106734\n",
      "Train Epoch: 6 [32000/60000 (53%)]\tLoss: 0.104234\n",
      "Train Epoch: 6 [38400/60000 (64%)]\tLoss: 0.031924\n",
      "Train Epoch: 6 [44800/60000 (75%)]\tLoss: 0.182352\n",
      "Train Epoch: 6 [51200/60000 (85%)]\tLoss: 0.176294\n",
      "Train Epoch: 6 [57600/60000 (96%)]\tLoss: 0.030059\n",
      "Accuracy on test set: 97.98%\n",
      "Train Epoch: 7 [0/60000 (0%)]\tLoss: 0.061714\n",
      "Train Epoch: 7 [6400/60000 (11%)]\tLoss: 0.018315\n",
      "Train Epoch: 7 [12800/60000 (21%)]\tLoss: 0.025140\n",
      "Train Epoch: 7 [19200/60000 (32%)]\tLoss: 0.023417\n",
      "Train Epoch: 7 [25600/60000 (43%)]\tLoss: 0.060236\n",
      "Train Epoch: 7 [32000/60000 (53%)]\tLoss: 0.046582\n",
      "Train Epoch: 7 [38400/60000 (64%)]\tLoss: 0.020247\n",
      "Train Epoch: 7 [44800/60000 (75%)]\tLoss: 0.055640\n",
      "Train Epoch: 7 [51200/60000 (85%)]\tLoss: 0.042939\n",
      "Train Epoch: 7 [57600/60000 (96%)]\tLoss: 0.074702\n",
      "Accuracy on test set: 98.04%\n",
      "Train Epoch: 8 [0/60000 (0%)]\tLoss: 0.093498\n",
      "Train Epoch: 8 [6400/60000 (11%)]\tLoss: 0.016168\n",
      "Train Epoch: 8 [12800/60000 (21%)]\tLoss: 0.157859\n",
      "Train Epoch: 8 [19200/60000 (32%)]\tLoss: 0.017101\n",
      "Train Epoch: 8 [25600/60000 (43%)]\tLoss: 0.236757\n",
      "Train Epoch: 8 [32000/60000 (53%)]\tLoss: 0.047130\n",
      "Train Epoch: 8 [38400/60000 (64%)]\tLoss: 0.010917\n",
      "Train Epoch: 8 [44800/60000 (75%)]\tLoss: 0.068217\n",
      "Train Epoch: 8 [51200/60000 (85%)]\tLoss: 0.006610\n",
      "Train Epoch: 8 [57600/60000 (96%)]\tLoss: 0.026689\n",
      "Accuracy on test set: 98.37%\n",
      "Train Epoch: 9 [0/60000 (0%)]\tLoss: 0.140210\n",
      "Train Epoch: 9 [6400/60000 (11%)]\tLoss: 0.026165\n",
      "Train Epoch: 9 [12800/60000 (21%)]\tLoss: 0.019536\n",
      "Train Epoch: 9 [19200/60000 (32%)]\tLoss: 0.089066\n",
      "Train Epoch: 9 [25600/60000 (43%)]\tLoss: 0.062074\n",
      "Train Epoch: 9 [32000/60000 (53%)]\tLoss: 0.022020\n",
      "Train Epoch: 9 [38400/60000 (64%)]\tLoss: 0.110559\n",
      "Train Epoch: 9 [44800/60000 (75%)]\tLoss: 0.051972\n",
      "Train Epoch: 9 [51200/60000 (85%)]\tLoss: 0.028046\n",
      "Train Epoch: 9 [57600/60000 (96%)]\tLoss: 0.115567\n",
      "Accuracy on test set: 98.44%\n",
      "Train Epoch: 10 [0/60000 (0%)]\tLoss: 0.226167\n",
      "Train Epoch: 10 [6400/60000 (11%)]\tLoss: 0.036295\n",
      "Train Epoch: 10 [12800/60000 (21%)]\tLoss: 0.090236\n",
      "Train Epoch: 10 [19200/60000 (32%)]\tLoss: 0.059910\n",
      "Train Epoch: 10 [25600/60000 (43%)]\tLoss: 0.068109\n",
      "Train Epoch: 10 [32000/60000 (53%)]\tLoss: 0.106511\n",
      "Train Epoch: 10 [38400/60000 (64%)]\tLoss: 0.128012\n",
      "Train Epoch: 10 [44800/60000 (75%)]\tLoss: 0.228429\n",
      "Train Epoch: 10 [51200/60000 (85%)]\tLoss: 0.056020\n",
      "Train Epoch: 10 [57600/60000 (96%)]\tLoss: 0.013983\n",
      "Accuracy on test set: 98.26%\n"
     ]
    },
    {
     "data": {
      "text/plain": [
       "<Figure size 640x480 with 1 Axes>"
      ],
      "image/png": "[encoded data removed]"
     },
     "metadata": {},
     "output_type": "display_data"
    }
   ],
   "execution_count": 7
  }
 ],
 "metadata": {
  "kernelspec": {
   "display_name": "Python 3",
   "language": "python",
   "name": "python3"
  },
  "language_info": {
   "codemirror_mode": {
    "name": "ipython",
    "version": 2
   },
   "file_extension": ".py",
   "mimetype": "text/x-python",
   "name": "python",
   "nbconvert_exporter": "python",
   "pygments_lexer": "ipython2",
   "version": "2.7.6"
  }
 },
 "nbformat": 4,
 "nbformat_minor": 5
}
