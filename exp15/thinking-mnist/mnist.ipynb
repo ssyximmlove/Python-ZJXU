{
 "cells": [
  {
   "metadata": {},
   "cell_type": "markdown",
   "source": "引入依赖",
   "id": "ec1552f90ab3e2fd"
  },
  {
   "metadata": {
    "ExecuteTime": {
     "end_time": "2025-04-28T06:02:10.770708Z",
     "start_time": "2025-04-28T06:02:10.768270Z"
    }
   },
   "cell_type": "code",
   "source": [
    "import torch\n",
    "from matplotlib import pyplot as plt\n",
    "from torch import optim\n",
    "from torch.utils.data import DataLoader\n",
    "from torchvision import datasets\n",
    "from torchvision import transforms"
   ],
   "id": "935fad829f9c818b",
   "outputs": [],
   "execution_count": 9
  },
  {
   "metadata": {},
   "cell_type": "markdown",
   "source": "数据预处理",
   "id": "547ae945c6670a5d"
  },
  {
   "metadata": {
    "ExecuteTime": {
     "end_time": "2025-04-28T06:02:10.785192Z",
     "start_time": "2025-04-28T06:02:10.782667Z"
    }
   },
   "cell_type": "code",
   "source": [
    "transform = transforms.Compose([\n",
    "    transforms.ToTensor(),\n",
    "    transforms.Normalize((0.1307,), (0.3081,))\n",
    "])"
   ],
   "id": "8e4a1f5c5a85a4f4",
   "outputs": [],
   "execution_count": 10
  },
  {
   "metadata": {},
   "cell_type": "markdown",
   "source": [
    "\n",
    "检查 CUDA 是否可用\n"
   ],
   "id": "e1a426c228d082c0"
  },
  {
   "metadata": {
    "ExecuteTime": {
     "end_time": "2025-04-28T06:02:10.811154Z",
     "start_time": "2025-04-28T06:02:10.808452Z"
    }
   },
   "cell_type": "code",
   "source": [
    "device = torch.device(\"cuda:0\" if torch.cuda.is_available() else \"cpu\")\n",
    "print(f\"Using device: {device}\")"
   ],
   "id": "320b1dbd68582173",
   "outputs": [
    {
     "name": "stdout",
     "output_type": "stream",
     "text": [
      "Using device: cuda:0\n"
     ]
    }
   ],
   "execution_count": 11
  },
  {
   "metadata": {},
   "cell_type": "markdown",
   "source": "数据集准备",
   "id": "d0c9cdbec95aba30"
  },
  {
   "metadata": {
    "ExecuteTime": {
     "end_time": "2025-04-28T06:02:10.857568Z",
     "start_time": "2025-04-28T06:02:10.826633Z"
    }
   },
   "cell_type": "code",
   "source": [
    "train_dataset = datasets.MNIST(root='./data', train=True,\n",
    "                               download=True, transform=transform)\n",
    "test_dataset = datasets.MNIST(root='./data', train=False,\n",
    "                              download=True, transform=transform)\n",
    "train_loader = DataLoader(train_dataset, batch_size=64, shuffle=True)\n",
    "test_loader = DataLoader(test_dataset, batch_size=64, shuffle=False)\n"
   ],
   "id": "33818974ac9adc69",
   "outputs": [],
   "execution_count": 12
  },
  {
   "metadata": {},
   "cell_type": "markdown",
   "source": "展示数据集",
   "id": "3a7c21a83957efd6"
  },
  {
   "metadata": {
    "ExecuteTime": {
     "end_time": "2025-04-28T06:02:11.274069Z",
     "start_time": "2025-04-28T06:02:10.872758Z"
    }
   },
   "cell_type": "code",
   "source": [
    "fig = plt.figure()\n",
    "for i in range(12):\n",
    "    plt.subplot(3, 4, i + 1)\n",
    "    plt.tight_layout()\n",
    "    plt.imshow(train_dataset.data[i], cmap='gray', interpolation='none')\n",
    "    plt.title(\"Labels: {}\".format(train_dataset.targets[i]))\n",
    "    plt.xticks([])\n",
    "    plt.yticks([])\n",
    "plt.show()"
   ],
   "id": "6131c86f2c376b1a",
   "outputs": [
    {
     "data": {
      "text/plain": [
       "<Figure size 640x480 with 12 Axes>"
      ],
      "image/png": "[encoded data removed]"
     },
     "metadata": {},
     "output_type": "display_data"
    }
   ],
   "execution_count": 13
  },
  {
   "metadata": {},
   "cell_type": "markdown",
   "source": "定义CNN模型",
   "id": "cf489d4c6da6c235"
  },
  {
   "metadata": {
    "ExecuteTime": {
     "end_time": "2025-04-28T06:02:11.293231Z",
     "start_time": "2025-04-28T06:02:11.289020Z"
    }
   },
   "cell_type": "code",
   "source": [
    "class Net(torch.nn.Module):\n",
    "    def __init__(self):\n",
    "        super(Net, self).__init__()\n",
    "        self.conv1 = torch.nn.Sequential(\n",
    "            torch.nn.Conv2d(1, 10, kernel_size=5),  #卷积\n",
    "            torch.nn.ReLU(),  #ReLU激活\n",
    "            torch.nn.MaxPool2d(kernel_size=2),  #最大池化\n",
    "        )\n",
    "        self.conv2 = torch.nn.Sequential(\n",
    "            torch.nn.Conv2d(10, 20, kernel_size=5),\n",
    "            torch.nn.ReLU(),\n",
    "            torch.nn.MaxPool2d(kernel_size=2),\n",
    "        )\n",
    "        self.fc = torch.nn.Sequential(\n",
    "            torch.nn.Linear(320, 50),  #线性化\n",
    "            torch.nn.Linear(50, 10),\n",
    "        )\n",
    "\n",
    "    def forward(self, x):\n",
    "        batch_size = x.size(0)\n",
    "        x = self.conv1(x)  # 卷积+激活+池化\n",
    "        x = self.conv2(x)  # 卷积+激活+池化\n",
    "        x = x.view(batch_size, -1)  # flatten 变成全连接网络需要的输入 (batch, 20,4,4) ==> (batch,320), -1 此处自动算出的是320\n",
    "        x = self.fc(x)\n",
    "        return x  # 最后输出的是维度为10的，也就是（对应数学符号的0~9）"
   ],
   "id": "30f1f2bf3cf0e435",
   "outputs": [],
   "execution_count": 14
  },
  {
   "metadata": {},
   "cell_type": "markdown",
   "source": "实例化模型",
   "id": "d57f0a0deee17216"
  },
  {
   "metadata": {
    "ExecuteTime": {
     "end_time": "2025-04-28T06:02:11.325166Z",
     "start_time": "2025-04-28T06:02:11.318537Z"
    }
   },
   "cell_type": "code",
   "source": [
    "model = Net().to(device)\n",
    "criterion = torch.nn.CrossEntropyLoss()\n",
    "optimizer = optim.SGD(model.parameters(), lr=0.01)"
   ],
   "id": "e0608bddcc01bbe9",
   "outputs": [],
   "execution_count": 15
  },
  {
   "metadata": {},
   "cell_type": "markdown",
   "source": "训练&测试",
   "id": "b253524c1375fec8"
  },
  {
   "metadata": {
    "ExecuteTime": {
     "end_time": "2025-04-28T06:22:02.370261Z",
     "start_time": "2025-04-28T06:20:46.676972Z"
    }
   },
   "cell_type": "code",
   "source": [
    "epochs = 10\n",
    "acc_test_list = []  # 用于存储每个 epoch 的测试准确率\n",
    "best_acc = 0.0  # 用于追踪最佳准确率\n",
    "best_epoch = 0  # 用于追踪最佳epoch\n",
    "\n",
    "\n",
    "def train(epoch):\n",
    "    for batch_idx, (data, target) in enumerate(train_loader):\n",
    "        data, target = data.to(device), target.to(device)  # 将数据和目标移动到 CUDA 设备\n",
    "        optimizer.zero_grad()\n",
    "        output = model(data)\n",
    "        loss = criterion(output, target)\n",
    "        loss.backward()\n",
    "        optimizer.step()\n",
    "        if batch_idx % 100 == 0:\n",
    "            print('Train Epoch: {} [{}/{} ({:.0f}%)]\\tLoss: {:.6f}'.format(\n",
    "                epoch, batch_idx * len(data), len(train_loader.dataset),\n",
    "                       100. * batch_idx / len(train_loader), loss.item()))\n",
    "\n",
    "\n",
    "def test():\n",
    "    global best_acc\n",
    "    global best_epoch\n",
    "    correct = 0\n",
    "    total = 0\n",
    "    with torch.no_grad():  # 在测试过程中禁用梯度计算\n",
    "        for data, target in test_loader:\n",
    "            data, target = data.to(device), target.to(device)  # 将数据和目标移动到 CUDA 设备\n",
    "            outputs = model(data)\n",
    "            _, predicted = torch.max(outputs.data, 1)\n",
    "            total += target.size(0)\n",
    "            correct += (predicted == target).sum().item()\n",
    "\n",
    "    accuracy = 100 * correct / total\n",
    "    acc_test_list.append(accuracy)  # 在每个 epoch 结束后添加准确率\n",
    "    print(f'Accuracy on test set: {accuracy}%')\n",
    "\n",
    "    # 如果当前准确率是最佳的，保存模型\n",
    "    if accuracy > best_acc:\n",
    "        best_acc = accuracy\n",
    "        best_epoch = epoch\n",
    "        torch.save(model.state_dict(), 'best_model.ckpt')\n",
    "        print(f'Best accuracy: {best_acc}% at epoch {best_epoch}, model saved to best_model.ckpt')\n",
    "\n",
    "\n",
    "for epoch in range(1, epochs + 1):\n",
    "    train(epoch)\n",
    "    test()\n",
    "\n",
    "plt.plot(acc_test_list)\n",
    "plt.xlabel('Epoch')\n",
    "plt.ylabel('Accuracy')\n",
    "plt.xticks(range(1, epochs + 1))\n",
    "plt.show()\n",
    "print(f'Best accuracy: {best_acc}% at epoch {best_epoch}, model saved to best_model.ckpt')"
   ],
   "id": "31e39777e7f09518",
   "outputs": [
    {
     "name": "stdout",
     "output_type": "stream",
     "text": [
      "Train Epoch: 1 [0/60000 (0%)]\tLoss: 0.001321\n",
      "Train Epoch: 1 [6400/60000 (11%)]\tLoss: 0.000141\n",
      "Train Epoch: 1 [12800/60000 (21%)]\tLoss: 0.003098\n",
      "Train Epoch: 1 [19200/60000 (32%)]\tLoss: 0.002840\n",
      "Train Epoch: 1 [25600/60000 (43%)]\tLoss: 0.005836\n",
      "Train Epoch: 1 [32000/60000 (53%)]\tLoss: 0.000321\n",
      "Train Epoch: 1 [38400/60000 (64%)]\tLoss: 0.000427\n",
      "Train Epoch: 1 [44800/60000 (75%)]\tLoss: 0.000703\n",
      "Train Epoch: 1 [51200/60000 (85%)]\tLoss: 0.000315\n",
      "Train Epoch: 1 [57600/60000 (96%)]\tLoss: 0.000053\n",
      "Accuracy on test set: 98.86%\n",
      "Best accuracy: 98.86% at epoch 1, model saved to best_model.ckpt\n",
      "Train Epoch: 2 [0/60000 (0%)]\tLoss: 0.000007\n",
      "Train Epoch: 2 [6400/60000 (11%)]\tLoss: 0.001388\n",
      "Train Epoch: 2 [12800/60000 (21%)]\tLoss: 0.003300\n",
      "Train Epoch: 2 [19200/60000 (32%)]\tLoss: 0.000102\n",
      "Train Epoch: 2 [25600/60000 (43%)]\tLoss: 0.000347\n",
      "Train Epoch: 2 [32000/60000 (53%)]\tLoss: 0.012737\n",
      "Train Epoch: 2 [38400/60000 (64%)]\tLoss: 0.003292\n",
      "Train Epoch: 2 [44800/60000 (75%)]\tLoss: 0.000027\n",
      "Train Epoch: 2 [51200/60000 (85%)]\tLoss: 0.000819\n",
      "Train Epoch: 2 [57600/60000 (96%)]\tLoss: 0.008808\n",
      "Accuracy on test set: 98.91%\n",
      "Best accuracy: 98.91% at epoch 2, model saved to best_model.ckpt\n",
      "Train Epoch: 3 [0/60000 (0%)]\tLoss: 0.003077\n",
      "Train Epoch: 3 [6400/60000 (11%)]\tLoss: 0.001430\n",
      "Train Epoch: 3 [12800/60000 (21%)]\tLoss: 0.001256\n",
      "Train Epoch: 3 [19200/60000 (32%)]\tLoss: 0.001359\n",
      "Train Epoch: 3 [25600/60000 (43%)]\tLoss: 0.003951\n",
      "Train Epoch: 3 [32000/60000 (53%)]\tLoss: 0.001272\n",
      "Train Epoch: 3 [38400/60000 (64%)]\tLoss: 0.001919\n",
      "Train Epoch: 3 [44800/60000 (75%)]\tLoss: 0.001099\n",
      "Train Epoch: 3 [51200/60000 (85%)]\tLoss: 0.001629\n",
      "Train Epoch: 3 [57600/60000 (96%)]\tLoss: 0.000555\n",
      "Accuracy on test set: 98.96%\n",
      "Best accuracy: 98.96% at epoch 3, model saved to best_model.ckpt\n",
      "Train Epoch: 4 [0/60000 (0%)]\tLoss: 0.000926\n",
      "Train Epoch: 4 [6400/60000 (11%)]\tLoss: 0.001554\n",
      "Train Epoch: 4 [12800/60000 (21%)]\tLoss: 0.000407\n",
      "Train Epoch: 4 [19200/60000 (32%)]\tLoss: 0.002936\n",
      "Train Epoch: 4 [25600/60000 (43%)]\tLoss: 0.000246\n",
      "Train Epoch: 4 [32000/60000 (53%)]\tLoss: 0.000318\n",
      "Train Epoch: 4 [38400/60000 (64%)]\tLoss: 0.000143\n",
      "Train Epoch: 4 [44800/60000 (75%)]\tLoss: 0.000022\n",
      "Train Epoch: 4 [51200/60000 (85%)]\tLoss: 0.000622\n",
      "Train Epoch: 4 [57600/60000 (96%)]\tLoss: 0.001766\n",
      "Accuracy on test set: 98.9%\n",
      "Train Epoch: 5 [0/60000 (0%)]\tLoss: 0.000054\n",
      "Train Epoch: 5 [6400/60000 (11%)]\tLoss: 0.000502\n",
      "Train Epoch: 5 [12800/60000 (21%)]\tLoss: 0.000719\n",
      "Train Epoch: 5 [19200/60000 (32%)]\tLoss: 0.000032\n",
      "Train Epoch: 5 [25600/60000 (43%)]\tLoss: 0.001342\n",
      "Train Epoch: 5 [32000/60000 (53%)]\tLoss: 0.000678\n",
      "Train Epoch: 5 [38400/60000 (64%)]\tLoss: 0.000141\n",
      "Train Epoch: 5 [44800/60000 (75%)]\tLoss: 0.000989\n",
      "Train Epoch: 5 [51200/60000 (85%)]\tLoss: 0.000776\n",
      "Train Epoch: 5 [57600/60000 (96%)]\tLoss: 0.000099\n",
      "Accuracy on test set: 98.83%\n",
      "Train Epoch: 6 [0/60000 (0%)]\tLoss: 0.000006\n",
      "Train Epoch: 6 [6400/60000 (11%)]\tLoss: 0.000351\n",
      "Train Epoch: 6 [12800/60000 (21%)]\tLoss: 0.002455\n",
      "Train Epoch: 6 [19200/60000 (32%)]\tLoss: 0.000736\n",
      "Train Epoch: 6 [25600/60000 (43%)]\tLoss: 0.000048\n",
      "Train Epoch: 6 [32000/60000 (53%)]\tLoss: 0.000176\n",
      "Train Epoch: 6 [38400/60000 (64%)]\tLoss: 0.000004\n",
      "Train Epoch: 6 [44800/60000 (75%)]\tLoss: 0.001270\n",
      "Train Epoch: 6 [51200/60000 (85%)]\tLoss: 0.001846\n",
      "Train Epoch: 6 [57600/60000 (96%)]\tLoss: 0.000208\n",
      "Accuracy on test set: 98.79%\n",
      "Train Epoch: 7 [0/60000 (0%)]\tLoss: 0.000256\n",
      "Train Epoch: 7 [6400/60000 (11%)]\tLoss: 0.000035\n",
      "Train Epoch: 7 [12800/60000 (21%)]\tLoss: 0.000560\n",
      "Train Epoch: 7 [19200/60000 (32%)]\tLoss: 0.000033\n",
      "Train Epoch: 7 [25600/60000 (43%)]\tLoss: 0.001650\n",
      "Train Epoch: 7 [32000/60000 (53%)]\tLoss: 0.000237\n",
      "Train Epoch: 7 [38400/60000 (64%)]\tLoss: 0.004870\n",
      "Train Epoch: 7 [44800/60000 (75%)]\tLoss: 0.000839\n",
      "Train Epoch: 7 [51200/60000 (85%)]\tLoss: 0.001059\n",
      "Train Epoch: 7 [57600/60000 (96%)]\tLoss: 0.001566\n",
      "Accuracy on test set: 98.92%\n",
      "Train Epoch: 8 [0/60000 (0%)]\tLoss: 0.001125\n",
      "Train Epoch: 8 [6400/60000 (11%)]\tLoss: 0.002542\n",
      "Train Epoch: 8 [12800/60000 (21%)]\tLoss: 0.000059\n",
      "Train Epoch: 8 [19200/60000 (32%)]\tLoss: 0.001467\n",
      "Train Epoch: 8 [25600/60000 (43%)]\tLoss: 0.000588\n",
      "Train Epoch: 8 [32000/60000 (53%)]\tLoss: 0.000113\n",
      "Train Epoch: 8 [38400/60000 (64%)]\tLoss: 0.000040\n",
      "Train Epoch: 8 [44800/60000 (75%)]\tLoss: 0.001276\n",
      "Train Epoch: 8 [51200/60000 (85%)]\tLoss: 0.002286\n",
      "Train Epoch: 8 [57600/60000 (96%)]\tLoss: 0.000005\n",
      "Accuracy on test set: 98.92%\n",
      "Train Epoch: 9 [0/60000 (0%)]\tLoss: 0.000209\n",
      "Train Epoch: 9 [6400/60000 (11%)]\tLoss: 0.001723\n",
      "Train Epoch: 9 [12800/60000 (21%)]\tLoss: 0.000010\n",
      "Train Epoch: 9 [19200/60000 (32%)]\tLoss: 0.000872\n",
      "Train Epoch: 9 [25600/60000 (43%)]\tLoss: 0.000522\n",
      "Train Epoch: 9 [32000/60000 (53%)]\tLoss: 0.000046\n",
      "Train Epoch: 9 [38400/60000 (64%)]\tLoss: 0.000030\n",
      "Train Epoch: 9 [44800/60000 (75%)]\tLoss: 0.001833\n",
      "Train Epoch: 9 [51200/60000 (85%)]\tLoss: 0.004146\n",
      "Train Epoch: 9 [57600/60000 (96%)]\tLoss: 0.001168\n",
      "Accuracy on test set: 98.92%\n",
      "Train Epoch: 10 [0/60000 (0%)]\tLoss: 0.000216\n",
      "Train Epoch: 10 [6400/60000 (11%)]\tLoss: 0.001565\n",
      "Train Epoch: 10 [12800/60000 (21%)]\tLoss: 0.000364\n",
      "Train Epoch: 10 [19200/60000 (32%)]\tLoss: 0.001081\n",
      "Train Epoch: 10 [25600/60000 (43%)]\tLoss: 0.001796\n",
      "Train Epoch: 10 [32000/60000 (53%)]\tLoss: 0.001290\n",
      "Train Epoch: 10 [38400/60000 (64%)]\tLoss: 0.000117\n",
      "Train Epoch: 10 [44800/60000 (75%)]\tLoss: 0.000303\n",
      "Train Epoch: 10 [51200/60000 (85%)]\tLoss: 0.001253\n",
      "Train Epoch: 10 [57600/60000 (96%)]\tLoss: 0.001978\n",
      "Accuracy on test set: 98.87%\n"
     ]
    },
    {
     "data": {
      "text/plain": [
       "<Figure size 640x480 with 1 Axes>"
      ],
      "image/png": "[encoded data removed]"
     },
     "metadata": {},
     "output_type": "display_data"
    },
    {
     "name": "stdout",
     "output_type": "stream",
     "text": [
      "Best accuracy: 98.96% at epoch 3, model saved to best_model.ckpt\n"
     ]
    }
   ],
   "execution_count": 20
  }
 ],
 "metadata": {
  "kernelspec": {
   "display_name": "Python 3",
   "language": "python",
   "name": "python3"
  },
  "language_info": {
   "codemirror_mode": {
    "name": "ipython",
    "version": 2
   },
   "file_extension": ".py",
   "mimetype": "text/x-python",
   "name": "python",
   "nbconvert_exporter": "python",
   "pygments_lexer": "ipython2",
   "version": "2.7.6"
  }
 },
 "nbformat": 4,
 "nbformat_minor": 5
}
